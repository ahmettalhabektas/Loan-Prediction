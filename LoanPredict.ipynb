{
 "cells": [
  {
   "cell_type": "code",
   "execution_count": 1,
   "id": "6Fb1YgWBr53m",
   "metadata": {
    "id": "6Fb1YgWBr53m"
   },
   "outputs": [
    {
     "ename": "ModuleNotFoundError",
     "evalue": "No module named 'google.colab'",
     "output_type": "error",
     "traceback": [
      "\u001b[1;31m---------------------------------------------------------------------------\u001b[0m",
      "\u001b[1;31mModuleNotFoundError\u001b[0m                       Traceback (most recent call last)",
      "\u001b[1;32m~\\AppData\\Local\\Temp/ipykernel_12160/451384764.py\u001b[0m in \u001b[0;36m<module>\u001b[1;34m\u001b[0m\n\u001b[1;32m----> 1\u001b[1;33m \u001b[1;32mfrom\u001b[0m \u001b[0mgoogle\u001b[0m\u001b[1;33m.\u001b[0m\u001b[0mcolab\u001b[0m \u001b[1;32mimport\u001b[0m \u001b[0mdrive\u001b[0m\u001b[1;33m\u001b[0m\u001b[1;33m\u001b[0m\u001b[0m\n\u001b[0m\u001b[0;32m      2\u001b[0m \u001b[0mdrive\u001b[0m\u001b[1;33m.\u001b[0m\u001b[0mmount\u001b[0m\u001b[1;33m(\u001b[0m\u001b[1;34m\"/content/drive\"\u001b[0m\u001b[1;33m)\u001b[0m\u001b[1;33m\u001b[0m\u001b[1;33m\u001b[0m\u001b[0m\n",
      "\u001b[1;31mModuleNotFoundError\u001b[0m: No module named 'google.colab'"
     ]
    }
   ],
   "source": [
    "from google.colab import drive\n",
    "drive.mount(\"/content/drive\")"
   ]
  },
  {
   "cell_type": "code",
   "execution_count": null,
   "id": "JS6bEe_Lr5t3",
   "metadata": {
    "id": "JS6bEe_Lr5t3"
   },
   "outputs": [],
   "source": [
    "from google.colab import files\n",
    "uploaded=files.upload()"
   ]
  },
  {
   "cell_type": "markdown",
   "id": "961d3e7b",
   "metadata": {},
   "source": [
    "# Importing Libraries"
   ]
  },
  {
   "cell_type": "code",
   "execution_count": 1,
   "id": "d6785b11",
   "metadata": {
    "id": "d6785b11"
   },
   "outputs": [],
   "source": [
    "import pandas as pd\n",
    "import matplotlib.pyplot as plt\n",
    "%matplotlib inline\n",
    "import numpy as np\n",
    "import warnings\n",
    "warnings.filterwarnings(\"ignore\")\n",
    "warnings.simplefilter('ignore')\n",
    "import seaborn as sns\n",
    "pd.set_option(\"max_columns\",None)"
   ]
  },
  {
   "cell_type": "code",
   "execution_count": 2,
   "id": "c6b7efb4",
   "metadata": {
    "id": "c6b7efb4"
   },
   "outputs": [],
   "source": [
    "from sklearn.naive_bayes import GaussianNB , BernoulliNB # 2 şey için\n",
    "from sklearn.naive_bayes import MultinomialNB# 3 ve daha fazla için\n",
    "from sklearn.neighbors import KNeighborsClassifier \n",
    "from sklearn.svm import SVC\n",
    "from sklearn.tree import DecisionTreeClassifier\n",
    "from sklearn.linear_model import LogisticRegression\n",
    "from sklearn.ensemble import GradientBoostingClassifier,ExtraTreesClassifier,RandomForestClassifier\n",
    "from sklearn.metrics import accuracy_score,precision_score,recall_score,f1_score\n",
    "from sklearn.metrics import confusion_matrix,classification_report\n",
    "from sklearn.model_selection import train_test_split\n",
    "from sklearn.svm import SVC"
   ]
  },
  {
   "cell_type": "code",
   "execution_count": null,
   "id": "e3cf5b58",
   "metadata": {
    "id": "e3cf5b58"
   },
   "outputs": [],
   "source": [
    "df=pd.read_csv(\"LoansTrainingSet.csv\")"
   ]
  },
  {
   "cell_type": "markdown",
   "id": "75c5de52",
   "metadata": {
    "id": "75c5de52"
   },
   "source": [
    "# EDA"
   ]
  },
  {
   "cell_type": "code",
   "execution_count": null,
   "id": "96308f64",
   "metadata": {
    "colab": {
     "base_uri": "https://localhost:8080/",
     "height": 1000
    },
    "id": "96308f64",
    "outputId": "4f00453d-c5f6-4668-84ab-55f271446f03"
   },
   "outputs": [],
   "source": [
    "df.sample(50)"
   ]
  },
  {
   "cell_type": "code",
   "execution_count": null,
   "id": "a8cfc293",
   "metadata": {
    "colab": {
     "base_uri": "https://localhost:8080/"
    },
    "id": "a8cfc293",
    "outputId": "c587a709-c6c6-4d1a-95d7-c95b2e691ff3"
   },
   "outputs": [],
   "source": [
    "df.shape"
   ]
  },
  {
   "cell_type": "code",
   "execution_count": null,
   "id": "a51e6862",
   "metadata": {
    "colab": {
     "base_uri": "https://localhost:8080/"
    },
    "id": "a51e6862",
    "outputId": "b73f8316-3631-4474-9665-7b8ea349adca"
   },
   "outputs": [],
   "source": [
    "df.info()"
   ]
  },
  {
   "cell_type": "code",
   "execution_count": null,
   "id": "85f131ae",
   "metadata": {
    "colab": {
     "base_uri": "https://localhost:8080/"
    },
    "id": "85f131ae",
    "outputId": "0a263763-4b26-47f9-8f72-479910512207"
   },
   "outputs": [],
   "source": [
    "df.isnull().sum()"
   ]
  },
  {
   "cell_type": "code",
   "execution_count": null,
   "id": "6f5d5664",
   "metadata": {
    "colab": {
     "base_uri": "https://localhost:8080/",
     "height": 362
    },
    "id": "6f5d5664",
    "outputId": "4b030464-e05a-4d3b-cd51-cd666c7b2d7b"
   },
   "outputs": [],
   "source": [
    "df.describe()"
   ]
  },
  {
   "cell_type": "code",
   "execution_count": null,
   "id": "9e1809ee",
   "metadata": {
    "colab": {
     "base_uri": "https://localhost:8080/",
     "height": 476
    },
    "id": "9e1809ee",
    "outputId": "06c6f516-aa9f-4bae-8ff8-3106416ac83c"
   },
   "outputs": [],
   "source": [
    "df.corr()"
   ]
  },
  {
   "cell_type": "code",
   "execution_count": null,
   "id": "98ed63fe",
   "metadata": {
    "colab": {
     "base_uri": "https://localhost:8080/",
     "height": 296
    },
    "id": "98ed63fe",
    "outputId": "223e9b07-6c9c-443c-e8eb-4b4f31b209af"
   },
   "outputs": [],
   "source": [
    "sns.countplot(x=\"Loan Status\",data=df)"
   ]
  },
  {
   "cell_type": "markdown",
   "id": "57bac554",
   "metadata": {
    "id": "57bac554"
   },
   "source": [
    "# Feature engineering"
   ]
  },
  {
   "cell_type": "code",
   "execution_count": null,
   "id": "94a4a414",
   "metadata": {
    "id": "94a4a414"
   },
   "outputs": [],
   "source": [
    "df=df.drop_duplicates()"
   ]
  },
  {
   "cell_type": "code",
   "execution_count": null,
   "id": "5393fc38",
   "metadata": {
    "id": "5393fc38"
   },
   "outputs": [],
   "source": [
    "df.shape"
   ]
  },
  {
   "cell_type": "code",
   "execution_count": null,
   "id": "5d19458c",
   "metadata": {
    "id": "5d19458c",
    "scrolled": true
   },
   "outputs": [],
   "source": [
    "df.head(15)"
   ]
  },
  {
   "cell_type": "code",
   "execution_count": null,
   "id": "926f0571",
   "metadata": {
    "colab": {
     "base_uri": "https://localhost:8080/"
    },
    "id": "926f0571",
    "outputId": "cca71048-1b0e-4aca-f4df-a212a27faea5"
   },
   "outputs": [],
   "source": [
    "df[\"Loan Status\"].unique()"
   ]
  },
  {
   "cell_type": "code",
   "execution_count": null,
   "id": "bf85023c",
   "metadata": {
    "id": "bf85023c"
   },
   "outputs": [],
   "source": [
    "df[\"Loan Status\"]=np.where(df[\"Loan Status\"]==\"Fully Paid\",1,-1)"
   ]
  },
  {
   "cell_type": "code",
   "execution_count": null,
   "id": "aa283d69",
   "metadata": {
    "colab": {
     "base_uri": "https://localhost:8080/"
    },
    "id": "aa283d69",
    "outputId": "db9549ee-e9a7-4afd-f407-420ed9f2b00f"
   },
   "outputs": [],
   "source": [
    "df[\"Customer ID\"].nunique()"
   ]
  },
  {
   "cell_type": "code",
   "execution_count": null,
   "id": "7208096d",
   "metadata": {
    "id": "7208096d"
   },
   "outputs": [],
   "source": [
    "\"\"\"cusid=df[\"Customer ID\"].unique()\n",
    "liste1=[]\n",
    "liste2=[]\n",
    "liste3=[]\n",
    "for i in range(df[\"Customer ID\"].nunique()): \n",
    "    liste1.append(cusid[i])\n",
    "    liste2.append(i)\n",
    "for a in df.index:    \n",
    "    b=liste1.index(df[\"Customer ID\"][a])\n",
    "    liste3.append(liste2[b])\n",
    "   \"\"\"     "
   ]
  },
  {
   "cell_type": "code",
   "execution_count": null,
   "id": "2d21a1c6",
   "metadata": {
    "id": "2d21a1c6"
   },
   "outputs": [],
   "source": [
    "#df[\"Customer ID\"]=liste3"
   ]
  },
  {
   "cell_type": "code",
   "execution_count": null,
   "id": "61e51b4b",
   "metadata": {
    "id": "61e51b4b"
   },
   "outputs": [],
   "source": [
    "\"\"\"cusid=df[\"Loan ID\"].unique()\n",
    "liste1=[]\n",
    "liste2=[]\n",
    "liste3=[]\n",
    "for i in range(df[\"Loan ID\"].nunique()): \n",
    "    liste1.append(cusid[i])\n",
    "    liste2.append(i)\n",
    "for a in df.index:    \n",
    "    b=liste1.index(df[\"Loan ID\"][a])\n",
    "    liste3.append(liste2[b])\n",
    "        \"\"\""
   ]
  },
  {
   "cell_type": "code",
   "execution_count": null,
   "id": "dfbc9095",
   "metadata": {
    "id": "dfbc9095"
   },
   "outputs": [],
   "source": [
    "#df[\"Loan ID\"]=liste3"
   ]
  },
  {
   "cell_type": "code",
   "execution_count": null,
   "id": "5a17de5d",
   "metadata": {
    "id": "5a17de5d"
   },
   "outputs": [],
   "source": [
    "df.head(50)"
   ]
  },
  {
   "cell_type": "code",
   "execution_count": null,
   "id": "ae4f3bcb",
   "metadata": {
    "id": "ae4f3bcb"
   },
   "outputs": [],
   "source": [
    "#df.to_csv(\"loanpredictahmet.csv\")"
   ]
  },
  {
   "cell_type": "code",
   "execution_count": 3,
   "id": "90490254",
   "metadata": {
    "id": "90490254"
   },
   "outputs": [],
   "source": [
    "df=pd.read_csv(\"loanpredictahmet.csv\")"
   ]
  },
  {
   "cell_type": "code",
   "execution_count": 4,
   "id": "294e3c8c",
   "metadata": {
    "id": "294e3c8c"
   },
   "outputs": [
    {
     "data": {
      "text/html": [
       "<div>\n",
       "<style scoped>\n",
       "    .dataframe tbody tr th:only-of-type {\n",
       "        vertical-align: middle;\n",
       "    }\n",
       "\n",
       "    .dataframe tbody tr th {\n",
       "        vertical-align: top;\n",
       "    }\n",
       "\n",
       "    .dataframe thead th {\n",
       "        text-align: right;\n",
       "    }\n",
       "</style>\n",
       "<table border=\"1\" class=\"dataframe\">\n",
       "  <thead>\n",
       "    <tr style=\"text-align: right;\">\n",
       "      <th></th>\n",
       "      <th>Unnamed: 0</th>\n",
       "      <th>Loan ID</th>\n",
       "      <th>Customer ID</th>\n",
       "      <th>Loan Status</th>\n",
       "      <th>Current Loan Amount</th>\n",
       "      <th>Term</th>\n",
       "      <th>Credit Score</th>\n",
       "      <th>Years in current job</th>\n",
       "      <th>Home Ownership</th>\n",
       "      <th>Annual Income</th>\n",
       "      <th>Purpose</th>\n",
       "      <th>Monthly Debt</th>\n",
       "      <th>Years of Credit History</th>\n",
       "      <th>Months since last delinquent</th>\n",
       "      <th>Number of Open Accounts</th>\n",
       "      <th>Number of Credit Problems</th>\n",
       "      <th>Current Credit Balance</th>\n",
       "      <th>Maximum Open Credit</th>\n",
       "      <th>Bankruptcies</th>\n",
       "      <th>Tax Liens</th>\n",
       "    </tr>\n",
       "  </thead>\n",
       "  <tbody>\n",
       "    <tr>\n",
       "      <th>0</th>\n",
       "      <td>0</td>\n",
       "      <td>0</td>\n",
       "      <td>0</td>\n",
       "      <td>1</td>\n",
       "      <td>11520</td>\n",
       "      <td>Short Term</td>\n",
       "      <td>741.0</td>\n",
       "      <td>10+ years</td>\n",
       "      <td>Home Mortgage</td>\n",
       "      <td>33694.0</td>\n",
       "      <td>Debt Consolidation</td>\n",
       "      <td>$584.03</td>\n",
       "      <td>12.3</td>\n",
       "      <td>41.0</td>\n",
       "      <td>10</td>\n",
       "      <td>0</td>\n",
       "      <td>6760</td>\n",
       "      <td>16056</td>\n",
       "      <td>0.0</td>\n",
       "      <td>0.0</td>\n",
       "    </tr>\n",
       "    <tr>\n",
       "      <th>1</th>\n",
       "      <td>1</td>\n",
       "      <td>1</td>\n",
       "      <td>1</td>\n",
       "      <td>1</td>\n",
       "      <td>3441</td>\n",
       "      <td>Short Term</td>\n",
       "      <td>734.0</td>\n",
       "      <td>4 years</td>\n",
       "      <td>Home Mortgage</td>\n",
       "      <td>42269.0</td>\n",
       "      <td>other</td>\n",
       "      <td>$1,106.04</td>\n",
       "      <td>26.3</td>\n",
       "      <td>NaN</td>\n",
       "      <td>17</td>\n",
       "      <td>0</td>\n",
       "      <td>6262</td>\n",
       "      <td>19149</td>\n",
       "      <td>0.0</td>\n",
       "      <td>0.0</td>\n",
       "    </tr>\n",
       "    <tr>\n",
       "      <th>2</th>\n",
       "      <td>2</td>\n",
       "      <td>2</td>\n",
       "      <td>2</td>\n",
       "      <td>1</td>\n",
       "      <td>21029</td>\n",
       "      <td>Short Term</td>\n",
       "      <td>747.0</td>\n",
       "      <td>10+ years</td>\n",
       "      <td>Home Mortgage</td>\n",
       "      <td>90126.0</td>\n",
       "      <td>Debt Consolidation</td>\n",
       "      <td>$1,321.85</td>\n",
       "      <td>28.8</td>\n",
       "      <td>NaN</td>\n",
       "      <td>5</td>\n",
       "      <td>0</td>\n",
       "      <td>20967</td>\n",
       "      <td>28335</td>\n",
       "      <td>0.0</td>\n",
       "      <td>0.0</td>\n",
       "    </tr>\n",
       "    <tr>\n",
       "      <th>3</th>\n",
       "      <td>3</td>\n",
       "      <td>3</td>\n",
       "      <td>3</td>\n",
       "      <td>1</td>\n",
       "      <td>18743</td>\n",
       "      <td>Short Term</td>\n",
       "      <td>747.0</td>\n",
       "      <td>10+ years</td>\n",
       "      <td>Own Home</td>\n",
       "      <td>38072.0</td>\n",
       "      <td>Debt Consolidation</td>\n",
       "      <td>$751.92</td>\n",
       "      <td>26.2</td>\n",
       "      <td>NaN</td>\n",
       "      <td>9</td>\n",
       "      <td>0</td>\n",
       "      <td>22529</td>\n",
       "      <td>43915</td>\n",
       "      <td>0.0</td>\n",
       "      <td>0.0</td>\n",
       "    </tr>\n",
       "    <tr>\n",
       "      <th>4</th>\n",
       "      <td>4</td>\n",
       "      <td>4</td>\n",
       "      <td>4</td>\n",
       "      <td>1</td>\n",
       "      <td>11731</td>\n",
       "      <td>Short Term</td>\n",
       "      <td>746.0</td>\n",
       "      <td>4 years</td>\n",
       "      <td>Rent</td>\n",
       "      <td>50025.0</td>\n",
       "      <td>Debt Consolidation</td>\n",
       "      <td>$355.18</td>\n",
       "      <td>11.5</td>\n",
       "      <td>NaN</td>\n",
       "      <td>12</td>\n",
       "      <td>0</td>\n",
       "      <td>17391</td>\n",
       "      <td>37081</td>\n",
       "      <td>0.0</td>\n",
       "      <td>0.0</td>\n",
       "    </tr>\n",
       "  </tbody>\n",
       "</table>\n",
       "</div>"
      ],
      "text/plain": [
       "   Unnamed: 0  Loan ID  Customer ID  Loan Status  Current Loan Amount  \\\n",
       "0           0        0            0            1                11520   \n",
       "1           1        1            1            1                 3441   \n",
       "2           2        2            2            1                21029   \n",
       "3           3        3            3            1                18743   \n",
       "4           4        4            4            1                11731   \n",
       "\n",
       "         Term  Credit Score Years in current job Home Ownership  \\\n",
       "0  Short Term         741.0            10+ years  Home Mortgage   \n",
       "1  Short Term         734.0              4 years  Home Mortgage   \n",
       "2  Short Term         747.0            10+ years  Home Mortgage   \n",
       "3  Short Term         747.0            10+ years       Own Home   \n",
       "4  Short Term         746.0              4 years           Rent   \n",
       "\n",
       "   Annual Income             Purpose Monthly Debt  Years of Credit History  \\\n",
       "0        33694.0  Debt Consolidation      $584.03                     12.3   \n",
       "1        42269.0               other   $1,106.04                      26.3   \n",
       "2        90126.0  Debt Consolidation   $1,321.85                      28.8   \n",
       "3        38072.0  Debt Consolidation      $751.92                     26.2   \n",
       "4        50025.0  Debt Consolidation      $355.18                     11.5   \n",
       "\n",
       "   Months since last delinquent  Number of Open Accounts  \\\n",
       "0                          41.0                       10   \n",
       "1                           NaN                       17   \n",
       "2                           NaN                        5   \n",
       "3                           NaN                        9   \n",
       "4                           NaN                       12   \n",
       "\n",
       "   Number of Credit Problems  Current Credit Balance Maximum Open Credit  \\\n",
       "0                          0                    6760               16056   \n",
       "1                          0                    6262               19149   \n",
       "2                          0                   20967               28335   \n",
       "3                          0                   22529               43915   \n",
       "4                          0                   17391               37081   \n",
       "\n",
       "   Bankruptcies  Tax Liens  \n",
       "0           0.0        0.0  \n",
       "1           0.0        0.0  \n",
       "2           0.0        0.0  \n",
       "3           0.0        0.0  \n",
       "4           0.0        0.0  "
      ]
     },
     "execution_count": 4,
     "metadata": {},
     "output_type": "execute_result"
    }
   ],
   "source": [
    "df.head()"
   ]
  },
  {
   "cell_type": "code",
   "execution_count": 5,
   "id": "AhU59pGK9hWj",
   "metadata": {
    "id": "AhU59pGK9hWj"
   },
   "outputs": [],
   "source": [
    "df[\"TotalLoan\"]=df[\"Current Loan Amount\"]+df[\"Current Credit Balance\"]"
   ]
  },
  {
   "cell_type": "code",
   "execution_count": 6,
   "id": "gZYvSQxv-0CH",
   "metadata": {
    "id": "gZYvSQxv-0CH"
   },
   "outputs": [],
   "source": [
    "df['Year_Job'] = df['Years in current job'].astype('str').str.extractall('(\\d+)').unstack().fillna('').sum(axis=1).astype(int)"
   ]
  },
  {
   "cell_type": "code",
   "execution_count": 7,
   "id": "521e8fbc",
   "metadata": {},
   "outputs": [],
   "source": [
    "df[\"Loan Status\"]=np.where(df[\"Loan Status\"]==1,1,0)"
   ]
  },
  {
   "cell_type": "code",
   "execution_count": 8,
   "id": "gkVAURjPA5VU",
   "metadata": {
    "id": "gkVAURjPA5VU",
    "scrolled": true
   },
   "outputs": [
    {
     "data": {
      "text/plain": [
       "0       $584.03\n",
       "1    $1,106.04 \n",
       "2    $1,321.85 \n",
       "3       $751.92\n",
       "4       $355.18\n",
       "Name: Monthly Debt, dtype: object"
      ]
     },
     "execution_count": 8,
     "metadata": {},
     "output_type": "execute_result"
    }
   ],
   "source": [
    "df[\"Monthly Debt\"].head()"
   ]
  },
  {
   "cell_type": "code",
   "execution_count": 9,
   "id": "PzFewSoSAh7A",
   "metadata": {
    "id": "PzFewSoSAh7A"
   },
   "outputs": [],
   "source": [
    "df['Monthly Debt'] = df['Monthly Debt'].astype('str').str.extractall('(\\d+)').unstack().fillna('').sum(axis=1).astype(float)/100"
   ]
  },
  {
   "cell_type": "code",
   "execution_count": 10,
   "id": "RoZmh-dJJOyC",
   "metadata": {
    "id": "RoZmh-dJJOyC"
   },
   "outputs": [],
   "source": [
    "df['Maximum Open Credit'] = df['Maximum Open Credit'].astype('str').str.extractall('(\\d+)').unstack().fillna('').sum(axis=1).astype(float)"
   ]
  },
  {
   "cell_type": "code",
   "execution_count": 11,
   "id": "Ai6QgPMtA5HD",
   "metadata": {
    "id": "Ai6QgPMtA5HD"
   },
   "outputs": [
    {
     "data": {
      "text/plain": [
       "array(['Debt Consolidation', 'other', 'Business Loan',\n",
       "       'Home Improvements', 'Buy House', 'Other', 'Buy a Car',\n",
       "       'Medical Bills', 'Take a Trip', 'Educational Expenses'],\n",
       "      dtype=object)"
      ]
     },
     "execution_count": 11,
     "metadata": {},
     "output_type": "execute_result"
    }
   ],
   "source": [
    "df[\"Purpose\"].unique()"
   ]
  },
  {
   "cell_type": "code",
   "execution_count": 12,
   "id": "O6Tj-12gOJnf",
   "metadata": {
    "id": "O6Tj-12gOJnf"
   },
   "outputs": [],
   "source": [
    "df[\"Purpose\"].replace(\"other\",\"Other\",inplace=True)"
   ]
  },
  {
   "cell_type": "code",
   "execution_count": 13,
   "id": "6TPX3uQPNAV1",
   "metadata": {
    "id": "6TPX3uQPNAV1"
   },
   "outputs": [
    {
     "data": {
      "text/plain": [
       "Debt Consolidation      190656\n",
       "Other                    22336\n",
       "Home Improvements        14106\n",
       "Business Loan             4275\n",
       "Buy a Car                 3150\n",
       "Medical Bills             2687\n",
       "Take a Trip               1467\n",
       "Buy House                 1445\n",
       "Educational Expenses       252\n",
       "Name: Purpose, dtype: int64"
      ]
     },
     "execution_count": 13,
     "metadata": {},
     "output_type": "execute_result"
    }
   ],
   "source": [
    "df[\"Purpose\"].value_counts()"
   ]
  },
  {
   "cell_type": "markdown",
   "id": "AA9Rd_bM7bhK",
   "metadata": {
    "id": "AA9Rd_bM7bhK"
   },
   "source": [
    "# Fillna"
   ]
  },
  {
   "cell_type": "code",
   "execution_count": 14,
   "id": "44kPrL-xMnkD",
   "metadata": {
    "id": "44kPrL-xMnkD"
   },
   "outputs": [],
   "source": [
    "df=df.drop([\"Years in current job\",\"Unnamed: 0\"],axis=1)"
   ]
  },
  {
   "cell_type": "code",
   "execution_count": 15,
   "id": "b33309b8",
   "metadata": {
    "id": "b33309b8"
   },
   "outputs": [
    {
     "data": {
      "text/plain": [
       "Loan ID                              0\n",
       "Customer ID                          0\n",
       "Loan Status                          0\n",
       "Current Loan Amount                  0\n",
       "Term                                 0\n",
       "Credit Score                     59346\n",
       "Home Ownership                       0\n",
       "Annual Income                    59346\n",
       "Purpose                              0\n",
       "Monthly Debt                         0\n",
       "Years of Credit History              0\n",
       "Months since last delinquent    131427\n",
       "Number of Open Accounts              0\n",
       "Number of Credit Problems            0\n",
       "Current Credit Balance               0\n",
       "Maximum Open Credit                  4\n",
       "Bankruptcies                       492\n",
       "Tax Liens                           23\n",
       "TotalLoan                            0\n",
       "Year_Job                         10444\n",
       "dtype: int64"
      ]
     },
     "execution_count": 15,
     "metadata": {},
     "output_type": "execute_result"
    }
   ],
   "source": [
    "df.isnull().sum()"
   ]
  },
  {
   "cell_type": "code",
   "execution_count": 16,
   "id": "4fa82bce",
   "metadata": {
    "id": "4fa82bce"
   },
   "outputs": [
    {
     "data": {
      "text/plain": [
       "0.0     236037\n",
       "1.0       3055\n",
       "2.0        811\n",
       "3.0        223\n",
       "4.0        116\n",
       "5.0         54\n",
       "6.0         28\n",
       "9.0          8\n",
       "8.0          8\n",
       "7.0          6\n",
       "10.0         3\n",
       "11.0         2\n",
       "Name: Tax Liens, dtype: int64"
      ]
     },
     "execution_count": 16,
     "metadata": {},
     "output_type": "execute_result"
    }
   ],
   "source": [
    "df[\"Tax Liens\"].value_counts()"
   ]
  },
  {
   "cell_type": "code",
   "execution_count": 17,
   "id": "ccdab74c",
   "metadata": {
    "id": "ccdab74c"
   },
   "outputs": [],
   "source": [
    "df[\"Tax Liens\"]=df[\"Tax Liens\"].fillna(0.0)"
   ]
  },
  {
   "cell_type": "code",
   "execution_count": 18,
   "id": "HSrTidKGPury",
   "metadata": {
    "id": "HSrTidKGPury"
   },
   "outputs": [
    {
     "data": {
      "text/plain": [
       "0.0         1726\n",
       "16303.0       20\n",
       "5981.0        19\n",
       "10198.0       19\n",
       "10044.0       19\n",
       "            ... \n",
       "190299.0       1\n",
       "36584.0        1\n",
       "2476.0         1\n",
       "255894.0       1\n",
       "62371.0        1\n",
       "Name: Maximum Open Credit, Length: 68986, dtype: int64"
      ]
     },
     "execution_count": 18,
     "metadata": {},
     "output_type": "execute_result"
    }
   ],
   "source": [
    "df[\"Maximum Open Credit\"].value_counts()"
   ]
  },
  {
   "cell_type": "code",
   "execution_count": 19,
   "id": "deddOIkqPuk8",
   "metadata": {
    "id": "deddOIkqPuk8"
   },
   "outputs": [],
   "source": [
    "df[\"Maximum Open Credit\"]=df[\"Maximum Open Credit\"].fillna(0.0)"
   ]
  },
  {
   "cell_type": "code",
   "execution_count": 20,
   "id": "83e14d1c",
   "metadata": {
    "id": "83e14d1c"
   },
   "outputs": [
    {
     "data": {
      "text/plain": [
       "0.0    214858\n",
       "1.0     23906\n",
       "2.0       902\n",
       "3.0       168\n",
       "4.0        29\n",
       "5.0        15\n",
       "6.0         3\n",
       "7.0         1\n",
       "Name: Bankruptcies, dtype: int64"
      ]
     },
     "execution_count": 20,
     "metadata": {},
     "output_type": "execute_result"
    }
   ],
   "source": [
    "df[\"Bankruptcies\"].value_counts()"
   ]
  },
  {
   "cell_type": "code",
   "execution_count": 21,
   "id": "4c827515",
   "metadata": {
    "id": "4c827515"
   },
   "outputs": [],
   "source": [
    "df[\"Bankruptcies\"]=df[\"Bankruptcies\"].fillna(0.0)"
   ]
  },
  {
   "cell_type": "code",
   "execution_count": 22,
   "id": "a1a99753",
   "metadata": {
    "id": "a1a99753"
   },
   "outputs": [],
   "source": [
    "df['Annual Income'].fillna(df.groupby(\"Purpose\")[\"Annual Income\"].transform(\"median\"),inplace=True)\n",
    "df['Credit Score'].fillna(df.groupby(\"Purpose\")[\"Credit Score\"].transform(\"median\"),inplace=True)\n",
    "df['Year_Job'].fillna(df.groupby(\"Purpose\")[\"Year_Job\"].transform(\"median\"),inplace=True)\n",
    "df['Annual Income'].fillna(df.groupby(\"Purpose\")[\"Annual Income\"].transform(\"median\"),inplace=True)\n",
    "df['Credit Score'].fillna(df.groupby(\"Purpose\")[\"Credit Score\"].transform(\"median\"),inplace=True)\n",
    "df['Credit Score'].fillna(df.groupby(\"Purpose\")[\"Credit Score\"].transform(\"median\"),inplace=True)\n",
    "df['Year_Job'].fillna(df.groupby(\"Purpose\")[\"Year_Job\"].transform(\"median\"),inplace=True)\n"
   ]
  },
  {
   "cell_type": "code",
   "execution_count": 23,
   "id": "eZIYvlJ3D-Sb",
   "metadata": {
    "id": "eZIYvlJ3D-Sb"
   },
   "outputs": [
    {
     "name": "stdout",
     "output_type": "stream",
     "text": [
      "<class 'pandas.core.frame.DataFrame'>\n",
      "RangeIndex: 240374 entries, 0 to 240373\n",
      "Data columns (total 20 columns):\n",
      " #   Column                        Non-Null Count   Dtype  \n",
      "---  ------                        --------------   -----  \n",
      " 0   Loan ID                       240374 non-null  int64  \n",
      " 1   Customer ID                   240374 non-null  int64  \n",
      " 2   Loan Status                   240374 non-null  int32  \n",
      " 3   Current Loan Amount           240374 non-null  int64  \n",
      " 4   Term                          240374 non-null  object \n",
      " 5   Credit Score                  240374 non-null  float64\n",
      " 6   Home Ownership                240374 non-null  object \n",
      " 7   Annual Income                 240374 non-null  float64\n",
      " 8   Purpose                       240374 non-null  object \n",
      " 9   Monthly Debt                  240374 non-null  float64\n",
      " 10  Years of Credit History       240374 non-null  float64\n",
      " 11  Months since last delinquent  108947 non-null  float64\n",
      " 12  Number of Open Accounts       240374 non-null  int64  \n",
      " 13  Number of Credit Problems     240374 non-null  int64  \n",
      " 14  Current Credit Balance        240374 non-null  int64  \n",
      " 15  Maximum Open Credit           240374 non-null  float64\n",
      " 16  Bankruptcies                  240374 non-null  float64\n",
      " 17  Tax Liens                     240374 non-null  float64\n",
      " 18  TotalLoan                     240374 non-null  int64  \n",
      " 19  Year_Job                      240374 non-null  float64\n",
      "dtypes: float64(9), int32(1), int64(7), object(3)\n",
      "memory usage: 35.8+ MB\n"
     ]
    }
   ],
   "source": [
    "df.info()"
   ]
  },
  {
   "cell_type": "code",
   "execution_count": 24,
   "id": "lwKw1FEACcnj",
   "metadata": {
    "id": "lwKw1FEACcnj"
   },
   "outputs": [],
   "source": [
    "df=pd.get_dummies(df,drop_first=True)"
   ]
  },
  {
   "cell_type": "markdown",
   "id": "0NBkS_o7Rogh",
   "metadata": {
    "id": "0NBkS_o7Rogh"
   },
   "source": [
    "## REGRESSION TO \"Months since last delinquent\""
   ]
  },
  {
   "cell_type": "code",
   "execution_count": 25,
   "id": "A2BYtcCIPnmz",
   "metadata": {
    "id": "A2BYtcCIPnmz"
   },
   "outputs": [],
   "source": [
    "bos=df[df[\"Months since last delinquent\"].isnull()]\n",
    "dolu=df[df[\"Months since last delinquent\"].notnull()]\n"
   ]
  },
  {
   "cell_type": "code",
   "execution_count": 26,
   "id": "7v09McPjRD2E",
   "metadata": {
    "id": "7v09McPjRD2E"
   },
   "outputs": [],
   "source": [
    "z=bos.drop(\"Months since last delinquent\",axis=1)"
   ]
  },
  {
   "cell_type": "code",
   "execution_count": 27,
   "id": "CaGQH9uVRTgt",
   "metadata": {
    "id": "CaGQH9uVRTgt"
   },
   "outputs": [],
   "source": [
    "x=dolu.drop(\"Months since last delinquent\",axis=1)\n",
    "y=dolu[\"Months since last delinquent\"]"
   ]
  },
  {
   "cell_type": "code",
   "execution_count": 28,
   "id": "sM7d1exPDDmT",
   "metadata": {
    "id": "sM7d1exPDDmT"
   },
   "outputs": [],
   "source": [
    "from sklearn.linear_model import LinearRegression  ,Ridge ,Lasso,ElasticNet\n",
    "from sklearn.tree import ExtraTreeRegressor\n",
    "from sklearn.ensemble import GradientBoostingRegressor\n",
    "from sklearn.neighbors import KNeighborsRegressor\n",
    "from sklearn.metrics import mean_squared_error,r2_score\n",
    "from sklearn.model_selection import train_test_split"
   ]
  },
  {
   "cell_type": "code",
   "execution_count": 29,
   "id": "a31e2207",
   "metadata": {
    "id": "a31e2207"
   },
   "outputs": [],
   "source": [
    "lr = LinearRegression()\n",
    "R=Ridge()\n",
    "L=Lasso()\n",
    "E=ElasticNet(l1_ratio=0.8)\n",
    "ETR=ExtraTreeRegressor()\n",
    "GBR=GradientBoostingRegressor()\n",
    "KNR=KNeighborsRegressor(n_neighbors=10,weights=\"uniform\")"
   ]
  },
  {
   "cell_type": "code",
   "execution_count": 30,
   "id": "edbeaf3f",
   "metadata": {
    "id": "edbeaf3f"
   },
   "outputs": [],
   "source": [
    "lr.fit(x,y)\n",
    "y_pred=lr.predict(z)"
   ]
  },
  {
   "cell_type": "code",
   "execution_count": 31,
   "id": "b54b7ae7",
   "metadata": {
    "id": "b54b7ae7"
   },
   "outputs": [],
   "source": [
    "bos[\"Months since last delinquent\"]=y_pred"
   ]
  },
  {
   "cell_type": "code",
   "execution_count": 32,
   "id": "c9a92915",
   "metadata": {
    "id": "c9a92915"
   },
   "outputs": [],
   "source": [
    "df=dolu.append(bos)"
   ]
  },
  {
   "cell_type": "code",
   "execution_count": 33,
   "id": "a3987607",
   "metadata": {
    "id": "a3987607"
   },
   "outputs": [
    {
     "data": {
      "text/html": [
       "<div>\n",
       "<style scoped>\n",
       "    .dataframe tbody tr th:only-of-type {\n",
       "        vertical-align: middle;\n",
       "    }\n",
       "\n",
       "    .dataframe tbody tr th {\n",
       "        vertical-align: top;\n",
       "    }\n",
       "\n",
       "    .dataframe thead th {\n",
       "        text-align: right;\n",
       "    }\n",
       "</style>\n",
       "<table border=\"1\" class=\"dataframe\">\n",
       "  <thead>\n",
       "    <tr style=\"text-align: right;\">\n",
       "      <th></th>\n",
       "      <th>Loan ID</th>\n",
       "      <th>Customer ID</th>\n",
       "      <th>Loan Status</th>\n",
       "      <th>Current Loan Amount</th>\n",
       "      <th>Credit Score</th>\n",
       "      <th>Annual Income</th>\n",
       "      <th>Monthly Debt</th>\n",
       "      <th>Years of Credit History</th>\n",
       "      <th>Months since last delinquent</th>\n",
       "      <th>Number of Open Accounts</th>\n",
       "      <th>Number of Credit Problems</th>\n",
       "      <th>Current Credit Balance</th>\n",
       "      <th>Maximum Open Credit</th>\n",
       "      <th>Bankruptcies</th>\n",
       "      <th>Tax Liens</th>\n",
       "      <th>TotalLoan</th>\n",
       "      <th>Year_Job</th>\n",
       "      <th>Term_Short Term</th>\n",
       "      <th>Home Ownership_Home Mortgage</th>\n",
       "      <th>Home Ownership_Own Home</th>\n",
       "      <th>Home Ownership_Rent</th>\n",
       "      <th>Purpose_Buy House</th>\n",
       "      <th>Purpose_Buy a Car</th>\n",
       "      <th>Purpose_Debt Consolidation</th>\n",
       "      <th>Purpose_Educational Expenses</th>\n",
       "      <th>Purpose_Home Improvements</th>\n",
       "      <th>Purpose_Medical Bills</th>\n",
       "      <th>Purpose_Other</th>\n",
       "      <th>Purpose_Take a Trip</th>\n",
       "    </tr>\n",
       "  </thead>\n",
       "  <tbody>\n",
       "    <tr>\n",
       "      <th>0</th>\n",
       "      <td>0</td>\n",
       "      <td>0</td>\n",
       "      <td>1</td>\n",
       "      <td>11520</td>\n",
       "      <td>741.0</td>\n",
       "      <td>33694.0</td>\n",
       "      <td>584.03</td>\n",
       "      <td>12.3</td>\n",
       "      <td>41.0</td>\n",
       "      <td>10</td>\n",
       "      <td>0</td>\n",
       "      <td>6760</td>\n",
       "      <td>16056.0</td>\n",
       "      <td>0.0</td>\n",
       "      <td>0.0</td>\n",
       "      <td>18280</td>\n",
       "      <td>10.0</td>\n",
       "      <td>1</td>\n",
       "      <td>1</td>\n",
       "      <td>0</td>\n",
       "      <td>0</td>\n",
       "      <td>0</td>\n",
       "      <td>0</td>\n",
       "      <td>1</td>\n",
       "      <td>0</td>\n",
       "      <td>0</td>\n",
       "      <td>0</td>\n",
       "      <td>0</td>\n",
       "      <td>0</td>\n",
       "    </tr>\n",
       "    <tr>\n",
       "      <th>6</th>\n",
       "      <td>6</td>\n",
       "      <td>6</td>\n",
       "      <td>0</td>\n",
       "      <td>24613</td>\n",
       "      <td>6640.0</td>\n",
       "      <td>49225.0</td>\n",
       "      <td>542.29</td>\n",
       "      <td>17.6</td>\n",
       "      <td>73.0</td>\n",
       "      <td>7</td>\n",
       "      <td>0</td>\n",
       "      <td>14123</td>\n",
       "      <td>16954.0</td>\n",
       "      <td>0.0</td>\n",
       "      <td>0.0</td>\n",
       "      <td>38736</td>\n",
       "      <td>6.0</td>\n",
       "      <td>0</td>\n",
       "      <td>0</td>\n",
       "      <td>0</td>\n",
       "      <td>1</td>\n",
       "      <td>0</td>\n",
       "      <td>0</td>\n",
       "      <td>0</td>\n",
       "      <td>0</td>\n",
       "      <td>0</td>\n",
       "      <td>0</td>\n",
       "      <td>0</td>\n",
       "      <td>0</td>\n",
       "    </tr>\n",
       "    <tr>\n",
       "      <th>7</th>\n",
       "      <td>6</td>\n",
       "      <td>6</td>\n",
       "      <td>0</td>\n",
       "      <td>24613</td>\n",
       "      <td>725.0</td>\n",
       "      <td>70301.0</td>\n",
       "      <td>542.29</td>\n",
       "      <td>17.6</td>\n",
       "      <td>73.0</td>\n",
       "      <td>7</td>\n",
       "      <td>0</td>\n",
       "      <td>14123</td>\n",
       "      <td>16954.0</td>\n",
       "      <td>0.0</td>\n",
       "      <td>0.0</td>\n",
       "      <td>38736</td>\n",
       "      <td>6.0</td>\n",
       "      <td>0</td>\n",
       "      <td>0</td>\n",
       "      <td>0</td>\n",
       "      <td>1</td>\n",
       "      <td>0</td>\n",
       "      <td>0</td>\n",
       "      <td>0</td>\n",
       "      <td>0</td>\n",
       "      <td>0</td>\n",
       "      <td>0</td>\n",
       "      <td>0</td>\n",
       "      <td>0</td>\n",
       "    </tr>\n",
       "    <tr>\n",
       "      <th>9</th>\n",
       "      <td>8</td>\n",
       "      <td>8</td>\n",
       "      <td>1</td>\n",
       "      <td>2036</td>\n",
       "      <td>733.0</td>\n",
       "      <td>55985.0</td>\n",
       "      <td>741.79</td>\n",
       "      <td>19.8</td>\n",
       "      <td>29.0</td>\n",
       "      <td>7</td>\n",
       "      <td>0</td>\n",
       "      <td>10926</td>\n",
       "      <td>15676.0</td>\n",
       "      <td>0.0</td>\n",
       "      <td>0.0</td>\n",
       "      <td>12962</td>\n",
       "      <td>6.0</td>\n",
       "      <td>1</td>\n",
       "      <td>1</td>\n",
       "      <td>0</td>\n",
       "      <td>0</td>\n",
       "      <td>0</td>\n",
       "      <td>0</td>\n",
       "      <td>1</td>\n",
       "      <td>0</td>\n",
       "      <td>0</td>\n",
       "      <td>0</td>\n",
       "      <td>0</td>\n",
       "      <td>0</td>\n",
       "    </tr>\n",
       "    <tr>\n",
       "      <th>12</th>\n",
       "      <td>11</td>\n",
       "      <td>11</td>\n",
       "      <td>0</td>\n",
       "      <td>17980</td>\n",
       "      <td>734.0</td>\n",
       "      <td>61417.0</td>\n",
       "      <td>597.50</td>\n",
       "      <td>9.9</td>\n",
       "      <td>43.0</td>\n",
       "      <td>7</td>\n",
       "      <td>0</td>\n",
       "      <td>6817</td>\n",
       "      <td>22800.0</td>\n",
       "      <td>0.0</td>\n",
       "      <td>0.0</td>\n",
       "      <td>24797</td>\n",
       "      <td>1.0</td>\n",
       "      <td>1</td>\n",
       "      <td>0</td>\n",
       "      <td>1</td>\n",
       "      <td>0</td>\n",
       "      <td>0</td>\n",
       "      <td>0</td>\n",
       "      <td>1</td>\n",
       "      <td>0</td>\n",
       "      <td>0</td>\n",
       "      <td>0</td>\n",
       "      <td>0</td>\n",
       "      <td>0</td>\n",
       "    </tr>\n",
       "  </tbody>\n",
       "</table>\n",
       "</div>"
      ],
      "text/plain": [
       "    Loan ID  Customer ID  Loan Status  Current Loan Amount  Credit Score  \\\n",
       "0         0            0            1                11520         741.0   \n",
       "6         6            6            0                24613        6640.0   \n",
       "7         6            6            0                24613         725.0   \n",
       "9         8            8            1                 2036         733.0   \n",
       "12       11           11            0                17980         734.0   \n",
       "\n",
       "    Annual Income  Monthly Debt  Years of Credit History  \\\n",
       "0         33694.0        584.03                     12.3   \n",
       "6         49225.0        542.29                     17.6   \n",
       "7         70301.0        542.29                     17.6   \n",
       "9         55985.0        741.79                     19.8   \n",
       "12        61417.0        597.50                      9.9   \n",
       "\n",
       "    Months since last delinquent  Number of Open Accounts  \\\n",
       "0                           41.0                       10   \n",
       "6                           73.0                        7   \n",
       "7                           73.0                        7   \n",
       "9                           29.0                        7   \n",
       "12                          43.0                        7   \n",
       "\n",
       "    Number of Credit Problems  Current Credit Balance  Maximum Open Credit  \\\n",
       "0                           0                    6760              16056.0   \n",
       "6                           0                   14123              16954.0   \n",
       "7                           0                   14123              16954.0   \n",
       "9                           0                   10926              15676.0   \n",
       "12                          0                    6817              22800.0   \n",
       "\n",
       "    Bankruptcies  Tax Liens  TotalLoan  Year_Job  Term_Short Term  \\\n",
       "0            0.0        0.0      18280      10.0                1   \n",
       "6            0.0        0.0      38736       6.0                0   \n",
       "7            0.0        0.0      38736       6.0                0   \n",
       "9            0.0        0.0      12962       6.0                1   \n",
       "12           0.0        0.0      24797       1.0                1   \n",
       "\n",
       "    Home Ownership_Home Mortgage  Home Ownership_Own Home  \\\n",
       "0                              1                        0   \n",
       "6                              0                        0   \n",
       "7                              0                        0   \n",
       "9                              1                        0   \n",
       "12                             0                        1   \n",
       "\n",
       "    Home Ownership_Rent  Purpose_Buy House  Purpose_Buy a Car  \\\n",
       "0                     0                  0                  0   \n",
       "6                     1                  0                  0   \n",
       "7                     1                  0                  0   \n",
       "9                     0                  0                  0   \n",
       "12                    0                  0                  0   \n",
       "\n",
       "    Purpose_Debt Consolidation  Purpose_Educational Expenses  \\\n",
       "0                            1                             0   \n",
       "6                            0                             0   \n",
       "7                            0                             0   \n",
       "9                            1                             0   \n",
       "12                           1                             0   \n",
       "\n",
       "    Purpose_Home Improvements  Purpose_Medical Bills  Purpose_Other  \\\n",
       "0                           0                      0              0   \n",
       "6                           0                      0              0   \n",
       "7                           0                      0              0   \n",
       "9                           0                      0              0   \n",
       "12                          0                      0              0   \n",
       "\n",
       "    Purpose_Take a Trip  \n",
       "0                     0  \n",
       "6                     0  \n",
       "7                     0  \n",
       "9                     0  \n",
       "12                    0  "
      ]
     },
     "execution_count": 33,
     "metadata": {},
     "output_type": "execute_result"
    }
   ],
   "source": [
    "df.head()"
   ]
  },
  {
   "cell_type": "code",
   "execution_count": 34,
   "id": "a0d7ed09",
   "metadata": {
    "id": "a0d7ed09"
   },
   "outputs": [
    {
     "data": {
      "text/plain": [
       "Loan ID                         0\n",
       "Customer ID                     0\n",
       "Loan Status                     0\n",
       "Current Loan Amount             0\n",
       "Credit Score                    0\n",
       "Annual Income                   0\n",
       "Monthly Debt                    0\n",
       "Years of Credit History         0\n",
       "Months since last delinquent    0\n",
       "Number of Open Accounts         0\n",
       "Number of Credit Problems       0\n",
       "Current Credit Balance          0\n",
       "Maximum Open Credit             0\n",
       "Bankruptcies                    0\n",
       "Tax Liens                       0\n",
       "TotalLoan                       0\n",
       "Year_Job                        0\n",
       "Term_Short Term                 0\n",
       "Home Ownership_Home Mortgage    0\n",
       "Home Ownership_Own Home         0\n",
       "Home Ownership_Rent             0\n",
       "Purpose_Buy House               0\n",
       "Purpose_Buy a Car               0\n",
       "Purpose_Debt Consolidation      0\n",
       "Purpose_Educational Expenses    0\n",
       "Purpose_Home Improvements       0\n",
       "Purpose_Medical Bills           0\n",
       "Purpose_Other                   0\n",
       "Purpose_Take a Trip             0\n",
       "dtype: int64"
      ]
     },
     "execution_count": 34,
     "metadata": {},
     "output_type": "execute_result"
    }
   ],
   "source": [
    "df.isnull().sum()"
   ]
  },
  {
   "cell_type": "markdown",
   "id": "qxbA6XhgSvmQ",
   "metadata": {
    "id": "qxbA6XhgSvmQ"
   },
   "source": [
    "# split fit predict"
   ]
  },
  {
   "cell_type": "code",
   "execution_count": 35,
   "id": "8d59e85b",
   "metadata": {
    "id": "8d59e85b"
   },
   "outputs": [],
   "source": [
    "g=GaussianNB()\n",
    "b=BernoulliNB()\n",
    "k=KNeighborsClassifier()\n",
    "d=DecisionTreeClassifier()\n",
    "gbc=GradientBoostingClassifier()\n",
    "log=LogisticRegression()"
   ]
  },
  {
   "cell_type": "code",
   "execution_count": 36,
   "id": "a8744029",
   "metadata": {
    "id": "a8744029"
   },
   "outputs": [],
   "source": [
    "x=df.drop(\"Loan Status\",axis=1)\n",
    "y=df[\"Loan Status\"]"
   ]
  },
  {
   "cell_type": "code",
   "execution_count": 37,
   "id": "288da034",
   "metadata": {},
   "outputs": [],
   "source": [
    "col=x.columns"
   ]
  },
  {
   "cell_type": "code",
   "execution_count": 38,
   "id": "b0b9839b",
   "metadata": {},
   "outputs": [
    {
     "data": {
      "text/html": [
       "<div>\n",
       "<style scoped>\n",
       "    .dataframe tbody tr th:only-of-type {\n",
       "        vertical-align: middle;\n",
       "    }\n",
       "\n",
       "    .dataframe tbody tr th {\n",
       "        vertical-align: top;\n",
       "    }\n",
       "\n",
       "    .dataframe thead th {\n",
       "        text-align: right;\n",
       "    }\n",
       "</style>\n",
       "<table border=\"1\" class=\"dataframe\">\n",
       "  <thead>\n",
       "    <tr style=\"text-align: right;\">\n",
       "      <th></th>\n",
       "      <th>Loan ID</th>\n",
       "      <th>Customer ID</th>\n",
       "      <th>Current Loan Amount</th>\n",
       "      <th>Credit Score</th>\n",
       "      <th>Annual Income</th>\n",
       "      <th>Monthly Debt</th>\n",
       "      <th>Years of Credit History</th>\n",
       "      <th>Months since last delinquent</th>\n",
       "      <th>Number of Open Accounts</th>\n",
       "      <th>Number of Credit Problems</th>\n",
       "      <th>Current Credit Balance</th>\n",
       "      <th>Maximum Open Credit</th>\n",
       "      <th>Bankruptcies</th>\n",
       "      <th>Tax Liens</th>\n",
       "      <th>TotalLoan</th>\n",
       "      <th>Year_Job</th>\n",
       "      <th>Term_Short Term</th>\n",
       "      <th>Home Ownership_Home Mortgage</th>\n",
       "      <th>Home Ownership_Own Home</th>\n",
       "      <th>Home Ownership_Rent</th>\n",
       "      <th>Purpose_Buy House</th>\n",
       "      <th>Purpose_Buy a Car</th>\n",
       "      <th>Purpose_Debt Consolidation</th>\n",
       "      <th>Purpose_Educational Expenses</th>\n",
       "      <th>Purpose_Home Improvements</th>\n",
       "      <th>Purpose_Medical Bills</th>\n",
       "      <th>Purpose_Other</th>\n",
       "      <th>Purpose_Take a Trip</th>\n",
       "    </tr>\n",
       "  </thead>\n",
       "  <tbody>\n",
       "    <tr>\n",
       "      <th>0</th>\n",
       "      <td>0.000000</td>\n",
       "      <td>0.000000</td>\n",
       "      <td>0.000110</td>\n",
       "      <td>0.022527</td>\n",
       "      <td>0.003867</td>\n",
       "      <td>0.025460</td>\n",
       "      <td>0.132638</td>\n",
       "      <td>0.476219</td>\n",
       "      <td>0.131579</td>\n",
       "      <td>0.0</td>\n",
       "      <td>0.003904</td>\n",
       "      <td>0.000091</td>\n",
       "      <td>0.0</td>\n",
       "      <td>0.0</td>\n",
       "      <td>0.000176</td>\n",
       "      <td>1.000000</td>\n",
       "      <td>1.0</td>\n",
       "      <td>1.0</td>\n",
       "      <td>0.0</td>\n",
       "      <td>0.0</td>\n",
       "      <td>0.0</td>\n",
       "      <td>0.0</td>\n",
       "      <td>1.0</td>\n",
       "      <td>0.0</td>\n",
       "      <td>0.0</td>\n",
       "      <td>0.0</td>\n",
       "      <td>0.0</td>\n",
       "      <td>0.0</td>\n",
       "    </tr>\n",
       "    <tr>\n",
       "      <th>1</th>\n",
       "      <td>0.000028</td>\n",
       "      <td>0.000028</td>\n",
       "      <td>0.000241</td>\n",
       "      <td>0.874368</td>\n",
       "      <td>0.005649</td>\n",
       "      <td>0.023640</td>\n",
       "      <td>0.211624</td>\n",
       "      <td>0.600375</td>\n",
       "      <td>0.092105</td>\n",
       "      <td>0.0</td>\n",
       "      <td>0.008157</td>\n",
       "      <td>0.000096</td>\n",
       "      <td>0.0</td>\n",
       "      <td>0.0</td>\n",
       "      <td>0.000380</td>\n",
       "      <td>0.555556</td>\n",
       "      <td>0.0</td>\n",
       "      <td>0.0</td>\n",
       "      <td>0.0</td>\n",
       "      <td>1.0</td>\n",
       "      <td>0.0</td>\n",
       "      <td>0.0</td>\n",
       "      <td>0.0</td>\n",
       "      <td>0.0</td>\n",
       "      <td>0.0</td>\n",
       "      <td>0.0</td>\n",
       "      <td>0.0</td>\n",
       "      <td>0.0</td>\n",
       "    </tr>\n",
       "    <tr>\n",
       "      <th>2</th>\n",
       "      <td>0.000028</td>\n",
       "      <td>0.000028</td>\n",
       "      <td>0.000241</td>\n",
       "      <td>0.020217</td>\n",
       "      <td>0.008068</td>\n",
       "      <td>0.023640</td>\n",
       "      <td>0.211624</td>\n",
       "      <td>0.600375</td>\n",
       "      <td>0.092105</td>\n",
       "      <td>0.0</td>\n",
       "      <td>0.008157</td>\n",
       "      <td>0.000096</td>\n",
       "      <td>0.0</td>\n",
       "      <td>0.0</td>\n",
       "      <td>0.000380</td>\n",
       "      <td>0.555556</td>\n",
       "      <td>0.0</td>\n",
       "      <td>0.0</td>\n",
       "      <td>0.0</td>\n",
       "      <td>1.0</td>\n",
       "      <td>0.0</td>\n",
       "      <td>0.0</td>\n",
       "      <td>0.0</td>\n",
       "      <td>0.0</td>\n",
       "      <td>0.0</td>\n",
       "      <td>0.0</td>\n",
       "      <td>0.0</td>\n",
       "      <td>0.0</td>\n",
       "    </tr>\n",
       "    <tr>\n",
       "      <th>3</th>\n",
       "      <td>0.000037</td>\n",
       "      <td>0.000037</td>\n",
       "      <td>0.000015</td>\n",
       "      <td>0.021372</td>\n",
       "      <td>0.006425</td>\n",
       "      <td>0.032337</td>\n",
       "      <td>0.244411</td>\n",
       "      <td>0.429661</td>\n",
       "      <td>0.092105</td>\n",
       "      <td>0.0</td>\n",
       "      <td>0.006310</td>\n",
       "      <td>0.000089</td>\n",
       "      <td>0.0</td>\n",
       "      <td>0.0</td>\n",
       "      <td>0.000124</td>\n",
       "      <td>0.555556</td>\n",
       "      <td>1.0</td>\n",
       "      <td>1.0</td>\n",
       "      <td>0.0</td>\n",
       "      <td>0.0</td>\n",
       "      <td>0.0</td>\n",
       "      <td>0.0</td>\n",
       "      <td>1.0</td>\n",
       "      <td>0.0</td>\n",
       "      <td>0.0</td>\n",
       "      <td>0.0</td>\n",
       "      <td>0.0</td>\n",
       "      <td>0.0</td>\n",
       "    </tr>\n",
       "    <tr>\n",
       "      <th>4</th>\n",
       "      <td>0.000051</td>\n",
       "      <td>0.000051</td>\n",
       "      <td>0.000175</td>\n",
       "      <td>0.021516</td>\n",
       "      <td>0.007048</td>\n",
       "      <td>0.026047</td>\n",
       "      <td>0.096870</td>\n",
       "      <td>0.483979</td>\n",
       "      <td>0.092105</td>\n",
       "      <td>0.0</td>\n",
       "      <td>0.003937</td>\n",
       "      <td>0.000129</td>\n",
       "      <td>0.0</td>\n",
       "      <td>0.0</td>\n",
       "      <td>0.000241</td>\n",
       "      <td>0.000000</td>\n",
       "      <td>1.0</td>\n",
       "      <td>0.0</td>\n",
       "      <td>1.0</td>\n",
       "      <td>0.0</td>\n",
       "      <td>0.0</td>\n",
       "      <td>0.0</td>\n",
       "      <td>1.0</td>\n",
       "      <td>0.0</td>\n",
       "      <td>0.0</td>\n",
       "      <td>0.0</td>\n",
       "      <td>0.0</td>\n",
       "      <td>0.0</td>\n",
       "    </tr>\n",
       "  </tbody>\n",
       "</table>\n",
       "</div>"
      ],
      "text/plain": [
       "    Loan ID  Customer ID  Current Loan Amount  Credit Score  Annual Income  \\\n",
       "0  0.000000     0.000000             0.000110      0.022527       0.003867   \n",
       "1  0.000028     0.000028             0.000241      0.874368       0.005649   \n",
       "2  0.000028     0.000028             0.000241      0.020217       0.008068   \n",
       "3  0.000037     0.000037             0.000015      0.021372       0.006425   \n",
       "4  0.000051     0.000051             0.000175      0.021516       0.007048   \n",
       "\n",
       "   Monthly Debt  Years of Credit History  Months since last delinquent  \\\n",
       "0      0.025460                 0.132638                      0.476219   \n",
       "1      0.023640                 0.211624                      0.600375   \n",
       "2      0.023640                 0.211624                      0.600375   \n",
       "3      0.032337                 0.244411                      0.429661   \n",
       "4      0.026047                 0.096870                      0.483979   \n",
       "\n",
       "   Number of Open Accounts  Number of Credit Problems  Current Credit Balance  \\\n",
       "0                 0.131579                        0.0                0.003904   \n",
       "1                 0.092105                        0.0                0.008157   \n",
       "2                 0.092105                        0.0                0.008157   \n",
       "3                 0.092105                        0.0                0.006310   \n",
       "4                 0.092105                        0.0                0.003937   \n",
       "\n",
       "   Maximum Open Credit  Bankruptcies  Tax Liens  TotalLoan  Year_Job  \\\n",
       "0             0.000091           0.0        0.0   0.000176  1.000000   \n",
       "1             0.000096           0.0        0.0   0.000380  0.555556   \n",
       "2             0.000096           0.0        0.0   0.000380  0.555556   \n",
       "3             0.000089           0.0        0.0   0.000124  0.555556   \n",
       "4             0.000129           0.0        0.0   0.000241  0.000000   \n",
       "\n",
       "   Term_Short Term  Home Ownership_Home Mortgage  Home Ownership_Own Home  \\\n",
       "0              1.0                           1.0                      0.0   \n",
       "1              0.0                           0.0                      0.0   \n",
       "2              0.0                           0.0                      0.0   \n",
       "3              1.0                           1.0                      0.0   \n",
       "4              1.0                           0.0                      1.0   \n",
       "\n",
       "   Home Ownership_Rent  Purpose_Buy House  Purpose_Buy a Car  \\\n",
       "0                  0.0                0.0                0.0   \n",
       "1                  1.0                0.0                0.0   \n",
       "2                  1.0                0.0                0.0   \n",
       "3                  0.0                0.0                0.0   \n",
       "4                  0.0                0.0                0.0   \n",
       "\n",
       "   Purpose_Debt Consolidation  Purpose_Educational Expenses  \\\n",
       "0                         1.0                           0.0   \n",
       "1                         0.0                           0.0   \n",
       "2                         0.0                           0.0   \n",
       "3                         1.0                           0.0   \n",
       "4                         1.0                           0.0   \n",
       "\n",
       "   Purpose_Home Improvements  Purpose_Medical Bills  Purpose_Other  \\\n",
       "0                        0.0                    0.0            0.0   \n",
       "1                        0.0                    0.0            0.0   \n",
       "2                        0.0                    0.0            0.0   \n",
       "3                        0.0                    0.0            0.0   \n",
       "4                        0.0                    0.0            0.0   \n",
       "\n",
       "   Purpose_Take a Trip  \n",
       "0                  0.0  \n",
       "1                  0.0  \n",
       "2                  0.0  \n",
       "3                  0.0  \n",
       "4                  0.0  "
      ]
     },
     "execution_count": 38,
     "metadata": {},
     "output_type": "execute_result"
    }
   ],
   "source": [
    "from sklearn.preprocessing import MinMaxScaler\n",
    "mms= MinMaxScaler()\n",
    "x_scaled= mms.fit_transform(x)\n",
    "x= pd.DataFrame(x_scaled,columns=col)\n",
    "x.head()"
   ]
  },
  {
   "cell_type": "code",
   "execution_count": 39,
   "id": "fba82603",
   "metadata": {
    "id": "fba82603"
   },
   "outputs": [],
   "source": [
    "x_train,x_test,y_train,y_test=train_test_split(x,y,test_size=0.25,random_state=42)"
   ]
  },
  {
   "cell_type": "code",
   "execution_count": 40,
   "id": "ac5327d8",
   "metadata": {
    "id": "ac5327d8"
   },
   "outputs": [],
   "source": [
    "#önce yukarda olduğu gibi tanımlamak lazım\n",
    "algorithms = [g,b,k,d,gbc,log]\n",
    "names = ['GaussianNB', 'BernoulliNB', 'K Nearest', 'Single Tree',  'Gradient Boost',\"Logistic\"]"
   ]
  },
  {
   "cell_type": "code",
   "execution_count": 41,
   "id": "84113abb",
   "metadata": {
    "id": "84113abb"
   },
   "outputs": [],
   "source": [
    "def evaluate_model():\n",
    "    # fit the data\n",
    "    for i in range(len(algorithms)):\n",
    "        algorithms[i] = algorithms[i].fit(x_train, y_train)\n",
    "    # print metrics \n",
    "    accuracy = []\n",
    "    precision = []\n",
    "    recall = []\n",
    "    f1 = []\n",
    "    for i in range(len(algorithms)):\n",
    "        if accuracy_score(y_test, algorithms[i].predict(x_test)) == 1:\n",
    "            accuracy.append(0)\n",
    "        else:   \n",
    "            accuracy.append(accuracy_score(y_test, algorithms[i].predict(x_test)))\n",
    "        if precision_score(y_test, algorithms[i].predict(x_test)) == 1:\n",
    "            precision.append(0)\n",
    "        else:   \n",
    "            precision.append(precision_score(y_test, algorithms[i].predict(x_test)))\n",
    "        if recall_score(y_test, algorithms[i].predict(x_test)) == 1:\n",
    "            recall.append(0)\n",
    "        else:   \n",
    "            recall.append(recall_score(y_test, algorithms[i].predict(x_test)))\n",
    "        if f1_score(y_test, algorithms[i].predict(x_test)) == 1:\n",
    "            f1.append(0)\n",
    "        else:   \n",
    "            f1.append(f1_score(y_test, algorithms[i].predict(x_test)))\n",
    "    metrics = pd.DataFrame(columns = ['Accuracy', 'Precision', 'Recall', 'F1'], index = names)\n",
    "    metrics['Accuracy'] = accuracy\n",
    "    metrics['Precision'] = precision\n",
    "    metrics['Recall'] = recall\n",
    "    metrics['F1'] = f1\n",
    "    return metrics.sort_values('Accuracy', ascending = False)"
   ]
  },
  {
   "cell_type": "code",
   "execution_count": 42,
   "id": "8452ad95",
   "metadata": {
    "id": "8452ad95",
    "scrolled": true
   },
   "outputs": [
    {
     "data": {
      "text/html": [
       "<div>\n",
       "<style scoped>\n",
       "    .dataframe tbody tr th:only-of-type {\n",
       "        vertical-align: middle;\n",
       "    }\n",
       "\n",
       "    .dataframe tbody tr th {\n",
       "        vertical-align: top;\n",
       "    }\n",
       "\n",
       "    .dataframe thead th {\n",
       "        text-align: right;\n",
       "    }\n",
       "</style>\n",
       "<table border=\"1\" class=\"dataframe\">\n",
       "  <thead>\n",
       "    <tr style=\"text-align: right;\">\n",
       "      <th></th>\n",
       "      <th>Accuracy</th>\n",
       "      <th>Precision</th>\n",
       "      <th>Recall</th>\n",
       "      <th>F1</th>\n",
       "    </tr>\n",
       "  </thead>\n",
       "  <tbody>\n",
       "    <tr>\n",
       "      <th>Gradient Boost</th>\n",
       "      <td>0.820931</td>\n",
       "      <td>0.815434</td>\n",
       "      <td>0.976799</td>\n",
       "      <td>0.888852</td>\n",
       "    </tr>\n",
       "    <tr>\n",
       "      <th>Single Tree</th>\n",
       "      <td>0.820797</td>\n",
       "      <td>0.882180</td>\n",
       "      <td>0.871986</td>\n",
       "      <td>0.877054</td>\n",
       "    </tr>\n",
       "    <tr>\n",
       "      <th>Logistic</th>\n",
       "      <td>0.793590</td>\n",
       "      <td>0.783140</td>\n",
       "      <td>0.993530</td>\n",
       "      <td>0.875878</td>\n",
       "    </tr>\n",
       "    <tr>\n",
       "      <th>K Nearest</th>\n",
       "      <td>0.765051</td>\n",
       "      <td>0.807117</td>\n",
       "      <td>0.892849</td>\n",
       "      <td>0.847821</td>\n",
       "    </tr>\n",
       "    <tr>\n",
       "      <th>BernoulliNB</th>\n",
       "      <td>0.732669</td>\n",
       "      <td>0.733321</td>\n",
       "      <td>0.998365</td>\n",
       "      <td>0.845560</td>\n",
       "    </tr>\n",
       "    <tr>\n",
       "      <th>GaussianNB</th>\n",
       "      <td>0.421756</td>\n",
       "      <td>0.982467</td>\n",
       "      <td>0.214983</td>\n",
       "      <td>0.352772</td>\n",
       "    </tr>\n",
       "  </tbody>\n",
       "</table>\n",
       "</div>"
      ],
      "text/plain": [
       "                Accuracy  Precision    Recall        F1\n",
       "Gradient Boost  0.820931   0.815434  0.976799  0.888852\n",
       "Single Tree     0.820797   0.882180  0.871986  0.877054\n",
       "Logistic        0.793590   0.783140  0.993530  0.875878\n",
       "K Nearest       0.765051   0.807117  0.892849  0.847821\n",
       "BernoulliNB     0.732669   0.733321  0.998365  0.845560\n",
       "GaussianNB      0.421756   0.982467  0.214983  0.352772"
      ]
     },
     "execution_count": 42,
     "metadata": {},
     "output_type": "execute_result"
    }
   ],
   "source": [
    "evaluate_model()"
   ]
  },
  {
   "cell_type": "code",
   "execution_count": null,
   "id": "fcdf55ee",
   "metadata": {},
   "outputs": [],
   "source": []
  },
  {
   "cell_type": "code",
   "execution_count": 43,
   "id": "0d08e942",
   "metadata": {
    "id": "0d08e942"
   },
   "outputs": [],
   "source": [
    "df=pd.read_clipboard()"
   ]
  },
  {
   "cell_type": "code",
   "execution_count": 44,
   "id": "e53416af",
   "metadata": {},
   "outputs": [],
   "source": [
    "df.to_csv(\"results.csv\")"
   ]
  },
  {
   "cell_type": "code",
   "execution_count": 45,
   "id": "44706c90",
   "metadata": {},
   "outputs": [
    {
     "data": {
      "text/html": [
       "<div>\n",
       "<style scoped>\n",
       "    .dataframe tbody tr th:only-of-type {\n",
       "        vertical-align: middle;\n",
       "    }\n",
       "\n",
       "    .dataframe tbody tr th {\n",
       "        vertical-align: top;\n",
       "    }\n",
       "\n",
       "    .dataframe thead th {\n",
       "        text-align: right;\n",
       "    }\n",
       "</style>\n",
       "<table border=\"1\" class=\"dataframe\">\n",
       "  <thead>\n",
       "    <tr style=\"text-align: right;\">\n",
       "      <th></th>\n",
       "      <th></th>\n",
       "      <th>Accuracy</th>\n",
       "      <th>Precision</th>\n",
       "      <th>Recall</th>\n",
       "      <th>F1</th>\n",
       "    </tr>\n",
       "  </thead>\n",
       "  <tbody>\n",
       "    <tr>\n",
       "      <th>Gradient</th>\n",
       "      <th>Boost</th>\n",
       "      <td>0.820931</td>\n",
       "      <td>0.815434</td>\n",
       "      <td>0.976799</td>\n",
       "      <td>0.888852</td>\n",
       "    </tr>\n",
       "    <tr>\n",
       "      <th>Single</th>\n",
       "      <th>Tree</th>\n",
       "      <td>0.820797</td>\n",
       "      <td>0.882180</td>\n",
       "      <td>0.871986</td>\n",
       "      <td>0.877054</td>\n",
       "    </tr>\n",
       "    <tr>\n",
       "      <th>Logistic</th>\n",
       "      <th>0.793590</th>\n",
       "      <td>0.783140</td>\n",
       "      <td>0.993530</td>\n",
       "      <td>0.875878</td>\n",
       "      <td>NaN</td>\n",
       "    </tr>\n",
       "    <tr>\n",
       "      <th>K</th>\n",
       "      <th>Nearest</th>\n",
       "      <td>0.765051</td>\n",
       "      <td>0.807117</td>\n",
       "      <td>0.892849</td>\n",
       "      <td>0.847821</td>\n",
       "    </tr>\n",
       "    <tr>\n",
       "      <th>BernoulliNB</th>\n",
       "      <th>0.732669</th>\n",
       "      <td>0.733321</td>\n",
       "      <td>0.998365</td>\n",
       "      <td>0.845560</td>\n",
       "      <td>NaN</td>\n",
       "    </tr>\n",
       "    <tr>\n",
       "      <th>GaussianNB</th>\n",
       "      <th>0.421756</th>\n",
       "      <td>0.982467</td>\n",
       "      <td>0.214983</td>\n",
       "      <td>0.352772</td>\n",
       "      <td>NaN</td>\n",
       "    </tr>\n",
       "  </tbody>\n",
       "</table>\n",
       "</div>"
      ],
      "text/plain": [
       "                      Accuracy  Precision    Recall        F1\n",
       "Gradient    Boost     0.820931   0.815434  0.976799  0.888852\n",
       "Single      Tree      0.820797   0.882180  0.871986  0.877054\n",
       "Logistic    0.793590  0.783140   0.993530  0.875878       NaN\n",
       "K           Nearest   0.765051   0.807117  0.892849  0.847821\n",
       "BernoulliNB 0.732669  0.733321   0.998365  0.845560       NaN\n",
       "GaussianNB  0.421756  0.982467   0.214983  0.352772       NaN"
      ]
     },
     "execution_count": 45,
     "metadata": {},
     "output_type": "execute_result"
    }
   ],
   "source": [
    "df"
   ]
  },
  {
   "cell_type": "code",
   "execution_count": 40,
   "id": "a80970de",
   "metadata": {},
   "outputs": [
    {
     "data": {
      "text/plain": [
       "(0.4217559157320198,\n",
       " 0.9824670608984335,\n",
       " 0.21498297389330306,\n",
       " 0.35277244873251506)"
      ]
     },
     "execution_count": 40,
     "metadata": {},
     "output_type": "execute_result"
    }
   ],
   "source": [
    "model=g.fit(x_train,y_train)\n",
    "y_pred=model.predict(x_test)\n",
    "accuracy_score(y_test,y_pred),precision_score(y_test,y_pred),recall_score(y_test,y_pred),f1_score(y_test,y_pred)"
   ]
  },
  {
   "cell_type": "code",
   "execution_count": 41,
   "id": "13ee89c7",
   "metadata": {},
   "outputs": [
    {
     "data": {
      "text/plain": [
       "(0.7326688188504676, 0.733321105200847, 0.9983654937570942, 0.8455600311475566)"
      ]
     },
     "execution_count": 41,
     "metadata": {},
     "output_type": "execute_result"
    }
   ],
   "source": [
    "model=b.fit(x_train,y_train)\n",
    "y_pred=model.predict(x_test)\n",
    "accuracy_score(y_test,y_pred),precision_score(y_test,y_pred),recall_score(y_test,y_pred),f1_score(y_test,y_pred)"
   ]
  },
  {
   "cell_type": "code",
   "execution_count": 42,
   "id": "1b35ac3c",
   "metadata": {},
   "outputs": [
    {
     "data": {
      "text/plain": [
       "(0.7650514194428728,\n",
       " 0.8071169119005109,\n",
       " 0.8928490351872872,\n",
       " 0.8478211664277476)"
      ]
     },
     "execution_count": 42,
     "metadata": {},
     "output_type": "execute_result"
    }
   ],
   "source": [
    "model=k.fit(x_train,y_train)\n",
    "y_pred=model.predict(x_test)\n",
    "accuracy_score(y_test,y_pred),precision_score(y_test,y_pred),recall_score(y_test,y_pred),f1_score(y_test,y_pred)"
   ]
  },
  {
   "cell_type": "code",
   "execution_count": 43,
   "id": "a60df576",
   "metadata": {},
   "outputs": [
    {
     "data": {
      "text/plain": [
       "(0.822062102705761, 0.8818075681615274, 0.874460839954597, 0.8781188378375298)"
      ]
     },
     "execution_count": 43,
     "metadata": {},
     "output_type": "execute_result"
    }
   ],
   "source": [
    "model=d.fit(x_train,y_train)\n",
    "y_pred=model.predict(x_test)\n",
    "accuracy_score(y_test,y_pred),precision_score(y_test,y_pred),recall_score(y_test,y_pred),f1_score(y_test,y_pred)"
   ]
  },
  {
   "cell_type": "code",
   "execution_count": 44,
   "id": "c297d2fa",
   "metadata": {},
   "outputs": [
    {
     "data": {
      "text/plain": [
       "(0.8209305421506307,\n",
       " 0.8154338886046203,\n",
       " 0.9767990919409761,\n",
       " 0.8888521643926169)"
      ]
     },
     "execution_count": 44,
     "metadata": {},
     "output_type": "execute_result"
    }
   ],
   "source": [
    "model=gbc.fit(x_train,y_train)\n",
    "y_pred=model.predict(x_test)\n",
    "accuracy_score(y_test,y_pred),precision_score(y_test,y_pred),recall_score(y_test,y_pred),f1_score(y_test,y_pred)"
   ]
  },
  {
   "cell_type": "code",
   "execution_count": 45,
   "id": "138ee541",
   "metadata": {},
   "outputs": [
    {
     "data": {
      "text/plain": [
       "(0.7935900422671148, 0.783140075871448, 0.9935300794551646, 0.8758780795324914)"
      ]
     },
     "execution_count": 45,
     "metadata": {},
     "output_type": "execute_result"
    }
   ],
   "source": [
    "model=log.fit(x_train,y_train)\n",
    "y_pred=model.predict(x_test)\n",
    "accuracy_score(y_test,y_pred),precision_score(y_test,y_pred),recall_score(y_test,y_pred),f1_score(y_test,y_pred)"
   ]
  },
  {
   "cell_type": "code",
   "execution_count": null,
   "id": "828dec8d",
   "metadata": {},
   "outputs": [],
   "source": []
  }
 ],
 "metadata": {
  "accelerator": "TPU",
  "colab": {
   "collapsed_sections": [],
   "name": "LoanPredict.ipynb",
   "provenance": []
  },
  "gpuClass": "standard",
  "kernelspec": {
   "display_name": "Python 3 (ipykernel)",
   "language": "python",
   "name": "python3"
  },
  "language_info": {
   "codemirror_mode": {
    "name": "ipython",
    "version": 3
   },
   "file_extension": ".py",
   "mimetype": "text/x-python",
   "name": "python",
   "nbconvert_exporter": "python",
   "pygments_lexer": "ipython3",
   "version": "3.9.7"
  }
 },
 "nbformat": 4,
 "nbformat_minor": 5
}
